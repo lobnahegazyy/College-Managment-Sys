{
  "cells": [
    {
      "cell_type": "markdown",
      "metadata": {
        "id": "9W7rwquRDzkI"
      },
      "source": [
        "#  ***College Management***"
      ]
    },
    {
      "cell_type": "code",
      "execution_count": null,
      "metadata": {
        "id": "1gz8htdO_xcm"
      },
      "outputs": [],
      "source": [
        "class CollegeManagement():\n",
        "  def __init__(self, CollegeName, City, ContactNumber, opened, auditoriums,parking_1,items_1,departments_1):\n",
        "        self.CollegeName = CollegeName\n",
        "        self.City = City\n",
        "        self.ContactNumber = ContactNumber\n",
        "        self.opened = opened\n",
        "        self.auditoriums = auditoriums\n",
        "        self.parking_1 =  parking_1\n",
        "        self.item_1 = items_1\n",
        "        self.departments = departments_1\n",
        "\n",
        "\n",
        "\n",
        "  def CollegeDetails(self):\n",
        "    return f\"College Name: {self.CollegeName}\\nCity: {self.City}\\nContact Number: {self.ContactNumber}\"\n",
        "\n",
        "  def open(self):\n",
        "      if self.opened == True:\n",
        "        print(\"College is open today!\")\n",
        "        print(self.CollegeDetails())\n",
        "      else:\n",
        "        print(\"College is closed today!\")\n",
        "\n",
        "\n",
        "  def show_all_auditoriums(self):\n",
        "        for auditorium in self.auditoriums:\n",
        "            print(auditorium.ShowEvents())\n",
        "\n",
        "  def parkingslots(self):\n",
        "    for parking in self.parking_1:\n",
        "            print(parking.ParkingVehicle())\n",
        "\n",
        "  def canteenObjects(self):\n",
        "    for item in self.item_1:\n",
        "      return item.ShowItems()\n"
      ]
    },
    {
      "cell_type": "markdown",
      "metadata": {
        "id": "_8bTZi0yFHxd"
      },
      "source": [
        "# ***Departement***"
      ]
    },
    {
      "cell_type": "code",
      "execution_count": null,
      "metadata": {
        "id": "anu9mS-sFGZ8"
      },
      "outputs": [],
      "source": [
        "class Department():\n",
        "  def __init__(self,DepartmentId,DepartmentName,HODName,TotalStaffs,TotalStudents,Events):\n",
        "    self.DepartmentId = DepartmentId\n",
        "    self.DepartmentName = DepartmentName\n",
        "    self.HODName = HODName\n",
        "    self.TotalStaffs = TotalStaffs\n",
        "    self.TotalStudents = TotalStudents\n",
        "    self.Events =  Events\n",
        "\n",
        "  def DepartmentDetails(self,HODName,DepartmentName,TotalStudents):\n",
        "    return f\"Head of Department: {HODName}\\nDepartment Name: {DepartmentName}\\nTotal Students: {TotalStudents}\"\n",
        "\n",
        "  def ShowEvents_1(self):\n",
        "    if self.DepartmentName == \"Computer Science\" or self.DepartmentName ==\"AI\":\n",
        "      for Event in self.Events:\n",
        "        print(Event.ShowEvents())\n",
        "    else:\n",
        "        print(\"No Events\")\n",
        "\n",
        "\n"
      ]
    },
    {
      "cell_type": "markdown",
      "metadata": {
        "id": "431RSIVVyUl9"
      },
      "source": [
        "# ***Student***"
      ]
    },
    {
      "cell_type": "code",
      "execution_count": null,
      "metadata": {
        "id": "Z7MbmEfmswj1"
      },
      "outputs": [],
      "source": [
        "from abc import ABC, abstractmethod\n",
        "class Student(ABC):\n",
        "  def __init__(self,StudentId,StudentName,Gender,Year,ClassId,Fees):\n",
        "    self.StudentId = StudentId\n",
        "    self.StudentName = StudentName\n",
        "    self.Gender = Gender\n",
        "    self.Year = Year\n",
        "    self.ClassId = ClassId\n",
        "    self.Fees = Fees\n",
        "\n",
        "  @abstractmethod\n",
        "  def StudentDetails(self):\n",
        "    pass\n",
        "  @abstractmethod\n",
        "  def PayFees(self,Fees):\n",
        "    pass\n",
        "\n",
        "  def IsPresent(self):\n",
        "    if self.Fees == \"Paid\":\n",
        "      return \"Student is present\"\n",
        "    else:\n",
        "      return f\"Student {self.StudentName} is no longer in college.\"\n",
        "\n",
        "class UGStudent(Student):\n",
        "  def __init__(self,StudentId,StudentName,Gender,Year,ClassId,Fees,Major):\n",
        "    super().__init__(StudentId,StudentName,Gender,Year,ClassId,Fees)\n",
        "    self.Major = Major\n",
        "\n",
        "  def StudentDetails(self):\n",
        "      if self.StudentId > 0 and self.StudentId < 1000:\n",
        "        print (f\"This Student {self.StudentName} is a UGStudent\")\n",
        "        return f\"Student ID: {self.StudentId}\\nStudent Name: {self.StudentName}\\nGender: {self.Gender}\\nYear: {self.Year}\\nClass Id: {self.ClassId}\\nMajor: {self.Major}\"\n",
        "\n",
        "  def PayFees(self,Fees):\n",
        "    if self.Fees == \"Paid\":\n",
        "      return f\"Student {self.StudentName} is already paid\"\n",
        "    elif self.Fees == \"Not Paid\":\n",
        "      return f\"Student {self.StudentName} hasn't paid yet.\"\n",
        "\n",
        "  def IsPresent(self):\n",
        "    if self.Fees == \"Paid\":\n",
        "      return \"Student is present\"\n",
        "    else:\n",
        "      return f\"Student {self.StudentName} isn't present.\"\n",
        "\n",
        "  def classrooms(self, class_id, classroominfo):\n",
        "        if class_id == self.ClassId:\n",
        "            return f\"This student is in class {self.ClassId}\\n{classroominfo.ClassDetails()}\"\n",
        "        else:\n",
        "            return f\"This student is not in class {self.ClassId}\"\n",
        "\n",
        "class PGStudent(Student):\n",
        "  def __init__(self,StudentId,StudentName,Gender,Year,ClassId,Fees):\n",
        "    super().__init__(StudentId,StudentName,Gender,Year,ClassId,Fees)\n",
        "\n",
        "  def StudentDetails(self):\n",
        "      if self.StudentId > 1000 and self.StudentId < 2000:\n",
        "        print (f\"This Student {self.StudentName} is a PGStudent\")\n",
        "        return f\"Student ID: {self.StudentId}\\nStudent Name: {self.StudentName}\\nGender: {self.Gender}\\nYear: {self.Year}\\nClass Id: {self.ClassId}\"\n",
        "      else:\n",
        "        return f\"Invalid ID\"\n",
        "\n",
        "  def PayFees(self):\n",
        "    if self.Fees == \"Paid\":\n",
        "      return f\"Student {self.StudentName} is already paid\"\n",
        "    elif self.Fees == \"Not Paid\":\n",
        "      return f\"Student {self.StudentName} hasn't paid yet.\"\n",
        "\n"
      ]
    },
    {
      "cell_type": "markdown",
      "metadata": {
        "id": "qWgC_savyxI4"
      },
      "source": [
        "# ***Staff***"
      ]
    },
    {
      "cell_type": "code",
      "execution_count": null,
      "metadata": {
        "id": "VmPMpA6a6YaS"
      },
      "outputs": [],
      "source": [
        "from abc import ABC, abstractmethod\n",
        "\n",
        "class Staff(ABC):\n",
        "    def __init__(self, StaffId, StaffName, DepartmentId, Salary):\n",
        "        self.StaffId = StaffId\n",
        "        self.StaffName = StaffName\n",
        "        self.DepartmentId = DepartmentId\n",
        "        self.Salary = Salary\n",
        "\n",
        "    @abstractmethod\n",
        "    def staffDetails(self):\n",
        "        pass\n",
        "\n",
        "class TeachingTeam(Staff):\n",
        "    def __init__(self, StaffId, StaffName, DepartmentId, Salary, Subject):\n",
        "        super().__init__(StaffId, StaffName, DepartmentId, Salary)\n",
        "        self.Subject = Subject\n",
        "\n",
        "    def staffDetails(self):\n",
        "        return f\"Staff ID: {self.StaffId}\\nStaff Name: {self.StaffName}\\nDepartment Id: {self.DepartmentId}\\nSalary: {self.Salary}\\nSubject: {self.Subject}\"\n",
        "\n",
        "class NonTeachingTeam(Staff):\n",
        "    def __init__(self, StaffId, StaffName, DepartmentId, Salary, Position):\n",
        "        super().__init__(StaffId, StaffName, DepartmentId, Salary)\n",
        "        self.Position = Position\n",
        "\n",
        "    def staffDetails(self):\n",
        "        return f\"Staff ID: {self.StaffId}\\nStaff Name: {self.StaffName}\\nDepartment Id: {self.DepartmentId}\\nSalary: {self.Salary}\\nPosition: {self.Position}\"\n",
        "\n"
      ]
    },
    {
      "cell_type": "markdown",
      "metadata": {
        "id": "b2fe-9OVM0Nd"
      },
      "source": [
        "# ***Classroom***"
      ]
    },
    {
      "cell_type": "code",
      "execution_count": null,
      "metadata": {
        "id": "-4v336qkNB2n"
      },
      "outputs": [],
      "source": [
        "class Classroom():\n",
        "  def __init__(self,ClassId,Section,DepartmentId,Occupied):\n",
        "    self.ClassId = ClassId\n",
        "    self.Section = Section\n",
        "    self.DepartmentId = DepartmentId\n",
        "    self.Occupied = Occupied\n",
        "\n",
        "\n",
        "  def ClassDetails(self):\n",
        "    return f\"Class Id: {self.ClassId}\\nSection: {self.Section}\\nDepartment Id: {self.DepartmentId}\"\n",
        "\n",
        "  def IsOccupied(self):\n",
        "    if self.Occupied == True:\n",
        "      return f\"Class {self.ClassId} is occupied\"\n",
        "    else:\n",
        "      return f\"Class {self.ClassId} is not occupied\"\n",
        "\n"
      ]
    },
    {
      "cell_type": "markdown",
      "metadata": {
        "id": "ApaF2xPmqnAC"
      },
      "source": [
        "# ***Canteen***"
      ]
    },
    {
      "cell_type": "code",
      "execution_count": null,
      "metadata": {
        "id": "AopGKppwqmPx"
      },
      "outputs": [],
      "source": [
        "class Canteen():\n",
        "  def __init__(self,InchargeId,ItemsList,AvailableList):\n",
        "    self.InchargeId = InchargeId\n",
        "    self.ItemsList = [\"Burger\",\"Chicken\",\"Chips\",\"Juice\",\"Coke\",\"Fries\",\"Candy\"]\n",
        "    self.AvailableList = [\"Burger\",\"Chicken\",\"Juice\",\"Chips\"]\n",
        "\n",
        "  def ShowItems(self):\n",
        "    return self.ItemsList\n",
        "\n",
        "  def Buy(self,item):\n",
        "    if item in self.AvailableList:\n",
        "      return f\"{item} is available\"\n",
        "    else:\n",
        "      return f\"{item} is not available\"\n",
        "\n",
        "\n"
      ]
    },
    {
      "cell_type": "markdown",
      "metadata": {
        "id": "EqoSaQ6Nutjd"
      },
      "source": [
        "# ***Library***"
      ]
    },
    {
      "cell_type": "code",
      "execution_count": null,
      "metadata": {
        "id": "eqzYUfZDu1_H"
      },
      "outputs": [],
      "source": [
        "import re\n",
        "class Library():\n",
        "  def __init__(self,LibraryId,LibrarianName,BookSection,TotalBooks):\n",
        "    self.LibraryId = LibraryId\n",
        "    self.LibrarianName = LibrarianName\n",
        "    self.BookSection = BookSection\n",
        "    self.TotalBooks = TotalBooks\n",
        "\n",
        "  def LibraryDetails(self):\n",
        "    return f\"Library Id: {self.LibraryId}\\nLibrarian Name: {self.LibrarianName}\\nBook Section: {self.BookSection}\\nTotal Books: {self.TotalBooks}\"\n",
        "\n",
        "  def SearchBook(self,BookSection):\n",
        "    pattern = r\"^[A-Za-z]\"\n",
        "    matches = re.search(pattern,BookSection)\n",
        "    if matches:\n",
        "      if BookSection in self.BookSection:\n",
        "          return f\"{BookSection} is available\"\n",
        "      else:\n",
        "          return f\"Can't find the book.\"\n",
        "\n",
        "  def LendBook(self,BookSection):\n",
        "      if BookSection in self.BookSection:\n",
        "          return f\"Book is available, Lend The book\"\n",
        "      else:\n",
        "          return f\"{BookSection} is not available\"\n",
        "\n",
        "  def ReturnBook(self,BookSection):\n",
        "    # for BookSection in self.BookSection:\n",
        "      if BookSection in self.BookSection:\n",
        "        self.BookSection.append(BookSection)\n",
        "        return f\"{BookSection} has returned\"\n",
        "      else:\n",
        "        return f\"Invalid Input\"\n",
        "\n",
        "  def PayFine(self):\n",
        "    return \"Fine Paid\"\n",
        "\n",
        "\n"
      ]
    },
    {
      "cell_type": "markdown",
      "metadata": {
        "id": "8LpG9DsaASxP"
      },
      "source": [
        "# ***Parking***"
      ]
    },
    {
      "cell_type": "code",
      "execution_count": null,
      "metadata": {
        "id": "UMdt6lQWJm0t"
      },
      "outputs": [],
      "source": [
        "class Parking():\n",
        "\n",
        "    def __init__(self, SlotId, VehicleNumber, VehicleOwnerName):\n",
        "        self.SlotId = SlotId\n",
        "        self.VehicleNumber = VehicleNumber\n",
        "        self.VehicleOwnerName = VehicleOwnerName\n",
        "\n",
        "    def ParkingVehicle(self):\n",
        "        if self.SlotId % 2 ==0:\n",
        "            return f\"Slot is Taken by:\\nSlot Id: {self.SlotId}\\nVehicle Number: {self.VehicleNumber}\\nVehicle Owner Name: {self.VehicleOwnerName}\"\n",
        "        else:\n",
        "            return f\"Slot is now yours!\\nSlot Id: {self.SlotId}\\nVehicle Number: {self.VehicleNumber}\\nVehicle Owner Name: {self.VehicleOwnerName}\"\n",
        "\n"
      ]
    },
    {
      "cell_type": "markdown",
      "metadata": {
        "id": "jXTFrRFi8Yu2"
      },
      "source": [
        "# ***Hostel***"
      ]
    },
    {
      "cell_type": "code",
      "source": [
        "from abc import ABC, abstractmethod\n",
        "\n",
        "GirlsRooms = [101, 102, 103, 104, 105]\n",
        "BoysRooms = [201, 202, 203, 204, 205]\n",
        "\n",
        "class Hostel(ABC):\n",
        "    def __init__(self, student_id, BlockNumber):\n",
        "        self.student_id = student_id\n",
        "        self.BlockNumber = BlockNumber\n",
        "        self.RoomNumber = None\n",
        "        self.Checked = False\n",
        "\n",
        "    def HostelDetails(self):\n",
        "        print(\"Student ID:\", self.student_id)\n",
        "        print(\"Block Number:\", self.BlockNumber)\n",
        "        print(\"Room Number:\", self.RoomNumber)\n",
        "\n",
        "    @abstractmethod\n",
        "    def CheckIn(self):\n",
        "        pass\n",
        "\n",
        "    @abstractmethod\n",
        "    def CheckOut(self):\n",
        "        pass\n",
        "\n",
        "class GirlsHostel(Hostel):\n",
        "    def __init__(self, student_id, BlockNumber):\n",
        "        super().__init__(student_id, BlockNumber)\n",
        "\n",
        "    def CheckIn(self,RoomNumber):\n",
        "        if self.Checked:\n",
        "            return \"Already Checked In\"\n",
        "        else:\n",
        "            if len(GirlsRooms) == 0:\n",
        "                return \"No Girls Rooms Available\"\n",
        "            else:\n",
        "                self.RoomNumber = GirlsRooms.pop()\n",
        "                self.Checked = True\n",
        "                return f\"Room {self.RoomNumber} Checked In\"\n",
        "\n",
        "    def CheckOut(self,RoomNumber):\n",
        "        if not self.Checked:\n",
        "            return \"Already Checked Out\"\n",
        "        else:\n",
        "            GirlsRooms.append(self.RoomNumber)\n",
        "            room = self.RoomNumber\n",
        "            self.Checked = False\n",
        "            return f\"Room {room} Checked Out\"\n",
        "\n",
        "class BoysHostel(Hostel):\n",
        "    def __init__(self, student_id, BlockNumber):\n",
        "        super().__init__(student_id, BlockNumber)\n",
        "\n",
        "    def CheckIn(self,RoomNumber):\n",
        "        if self.Checked:\n",
        "            return \"Already Checked In\"\n",
        "        else:\n",
        "            if len(BoysRooms) == 0:\n",
        "                return \"No Boys Rooms Available\"\n",
        "            else:\n",
        "                self.RoomNumber = BoysRooms.pop()\n",
        "                self.Checked = True\n",
        "                return f\"Room {self.RoomNumber} Checked In\"\n",
        "\n",
        "    def CheckOut(self,RoomNumber):\n",
        "        if not self.Checked:\n",
        "            return \"Already Checked Out\"\n",
        "        else:\n",
        "            BoysRooms.append(self.RoomNumber)\n",
        "            room = self.RoomNumber\n",
        "            self.Checked = False\n",
        "            self.RoomNumber = None\n",
        "            return f\"Room {room} Checked Out\"\n",
        "\n",
        "girl = GirlsHostel(101, 10)\n",
        "print(girl.CheckIn(12))\n",
        "print(girl.CheckOut(101))\n",
        "\n",
        "boy = BoysHostel(456, 202)\n",
        "print(boy.CheckIn(500))\n",
        "print(boy.CheckOut(122))\n"
      ],
      "metadata": {
        "colab": {
          "base_uri": "https://localhost:8080/"
        },
        "id": "e02PVuS_l6fI",
        "outputId": "79a90853-7094-4552-9142-031c81d9172b"
      },
      "execution_count": null,
      "outputs": [
        {
          "output_type": "stream",
          "name": "stdout",
          "text": [
            "Room 105 Checked In\n",
            "Room 105 Checked Out\n",
            "Room 205 Checked In\n",
            "Room 205 Checked Out\n"
          ]
        }
      ]
    },
    {
      "cell_type": "markdown",
      "source": [
        "# ***Bus***"
      ],
      "metadata": {
        "id": "AKZilvF82JmE"
      }
    },
    {
      "cell_type": "code",
      "source": [
        "class Bus():\n",
        "    def __init__(self, BusId, BusNumber, DriverName, Destination, TotalSeats):\n",
        "        self.BusId = BusId\n",
        "        self.BusNumber = BusNumber\n",
        "        self.DriverName = DriverName\n",
        "        self.Destination = Destination\n",
        "        self.TotalSeats = TotalSeats\n",
        "\n",
        "    def BusDetails(self):\n",
        "        return f\"Bus Number: {self.BusNumber}\\nDriver Name: {self.DriverName}\\nDestination: {self.Destination}\"\n",
        "\n",
        "    def ShowAvailableSeats(self):\n",
        "        return f\"Available Seats: {self.TotalSeats}\"\n",
        "\n",
        "    def BookSeat(self):\n",
        "      seat = input(\"Do you want to book seat?\\nYes/No: \")\n",
        "      while seat == \"Yes\":\n",
        "        self.TotalSeats = self.TotalSeats - 1\n",
        "        return f\"Seat Booked\\nNumber of seats available: {self.TotalSeats}\"\n",
        "      return \"Cancelled\"\n",
        "\n",
        "\n"
      ],
      "metadata": {
        "id": "bflQ76-P2Iz8"
      },
      "execution_count": null,
      "outputs": []
    },
    {
      "cell_type": "markdown",
      "source": [
        "# ***Auditorium***"
      ],
      "metadata": {
        "id": "DglYxHTT2zEE"
      }
    },
    {
      "cell_type": "code",
      "source": [
        "class Auditorium():\n",
        "  def __init__(self,AuditoriumName, EventsList, Date, Time, TotalSeats, DepartmentId,AvailableEvents):\n",
        "    self.AuditoriumName = AuditoriumName\n",
        "    self.EventsList = []\n",
        "    self.Date = Date\n",
        "    self.Time = Time\n",
        "    self.TotalSeats = TotalSeats\n",
        "    self.DepartmentId = DepartmentId\n",
        "    self.AvailableEvents = AvailableEvents\n",
        "\n",
        "  def ShowEvents(self):\n",
        "    return f\"Auditorium Name: {self.AuditoriumName}\\nAvailable Events:{self.AvailableEvents}\\nDate: {self.Date}\\nTime: {self.Time}\\nTotal Seats: {self.TotalSeats}\"\n"
      ],
      "metadata": {
        "id": "dZ8sNHzf2yWN"
      },
      "execution_count": null,
      "outputs": []
    },
    {
      "cell_type": "markdown",
      "metadata": {
        "id": "tT8OAZsokR_L"
      },
      "source": [
        "# ***Menu***"
      ]
    },
    {
      "cell_type": "code",
      "execution_count": null,
      "metadata": {
        "id": "K43FAlZsZcoj",
        "colab": {
          "base_uri": "https://localhost:8080/"
        },
        "outputId": "aa3dbd5b-81b1-451c-c0db-b553a434eeb8"
      },
      "outputs": [
        {
          "output_type": "stream",
          "name": "stdout",
          "text": [
            "1-College Managment\n",
            "2-Department\n",
            "3-Student\n",
            "4-Staff\n",
            "5-Classroom\n",
            "6-Canteen\n",
            "7-Library\n",
            "8-Parking\n",
            "9-Hostel\n",
            "10-Bus\n",
            "11-Auditorium\n",
            "--------------------\n",
            "Enter Your Choice: 1\n",
            "--------------------\n",
            "College Name: X UNI\n",
            "City: Giza\n",
            "Contact Number: 999-999\n",
            "College is open today!\n",
            "College Name: X UNI\n",
            "City: Giza\n",
            "Contact Number: 999-999\n",
            "-----------------\n",
            "Auditorium Name: Main Hall\n",
            "Available Events:['A', 'B', 'C']\n",
            "Date: 2024-07-20\n",
            "Time: 10:00 AM\n",
            "Total Seats: 500\n",
            "-----------------\n",
            "Slot is Taken by:\n",
            "Slot Id: 12\n",
            "Vehicle Number: 123\n",
            "Vehicle Owner Name: Ahmed\n",
            "Slot is now yours!\n",
            "Slot Id: 11\n",
            "Vehicle Number: 1223\n",
            "Vehicle Owner Name: Hany\n",
            "-----------------\n",
            "['Burger', 'Chicken', 'Chips', 'Juice', 'Coke', 'Fries', 'Candy']\n"
          ]
        }
      ],
      "source": [
        "print(\"1-College Managment\\n2-Department\\n3-Student\\n4-Staff\\n5-Classroom\\n6-Canteen\\n7-Library\\n8-Parking\\n9-Hostel\\n10-Bus\\n11-Auditorium\")\n",
        "print(\"--------------------\")\n",
        "x = int(input(\"Enter Your Choice: \"))\n",
        "print(\"--------------------\")\n",
        "if x == 1:\n",
        "    departmentss = Department(12, \"AI\", \"ABC\", 120, 1000, \"x\")\n",
        "    parkingss = [Parking(12, \"123\", \"Ahmed\"), Parking(11, \"1223\", \"Hany\")]\n",
        "    auditorium1 = Auditorium(\"Main Hall\", [\"Event1\", \"Event2\"], \"2024-07-20\", \"10:00 AM\", 500, 1, [\"A\", \"B\", \"C\"])\n",
        "    itemss = Canteen(1, [\"Burger\", \"Chicken\", \"Chips\", \"Juice\", \"Coke\", \"Fries\", \"Candy\"], [\"Burger\", \"Chicken\", \"Juice\", \"Chips\"])\n",
        "    college = CollegeManagement(\"X UNI\", \"Giza\", \"999-999\", True, [auditorium1], parkingss, [itemss], [departmentss])\n",
        "    print(college.CollegeDetails())\n",
        "    college.open()\n",
        "    print(\"-----------------\")\n",
        "    college.show_all_auditoriums()\n",
        "    print(\"-----------------\")\n",
        "    college.parkingslots()\n",
        "    print(\"-----------------\")\n",
        "    print(college.canteenObjects())\n",
        "\n",
        "elif x == 2:\n",
        "    Events = [\n",
        "        Auditorium(\"Main Hall\", [1, 2, 3], \"2012-12-3\", [\"10:00\", \"1:00\", \"2:00\"], 123, 1, [\"A\", \"B\", \"C\"]),\n",
        "        Auditorium(\"Second Hall\", [4, 5, 6], \"2012-12-4\", [\"10:00\", \"1:00\", \"2:00\"], 150, 1, [\"A\", \"B\", \"C\"])]\n",
        "    departments = Department(12, \"AI\", \"ABC\", 120, 1000, Events)\n",
        "    departments.ShowEvents_1()\n",
        "\n",
        "elif x == 3:\n",
        "    classroominfo = Classroom(10, \"Second Year\", 10, True)\n",
        "    undergraduates = UGStudent(500, \"Sara\", \"Female\", \"Second Year\", 10, \"Paid\", \"Computer Science\")\n",
        "    postgraduates = PGStudent(1500, \"Kareem\", \"Female\", 2010, 120, \"Paid\")\n",
        "    print(postgraduates.StudentDetails())\n",
        "    print(\"---------------------\")\n",
        "    print(undergraduates.StudentDetails())\n",
        "    print(\"---------------------\")\n",
        "    print(undergraduates.classrooms(30, classroominfo))\n",
        "    print(\"---------------------\")\n",
        "    print(undergraduates.StudentDetails())\n",
        "    print(\"---------------------\")\n",
        "    print(postgraduates.StudentDetails())\n",
        "\n",
        "elif x == 4:\n",
        "    y = int(input(\"1- Teaching Staff\\n2- Non Teaching Staff\\nPick A Number: \"))\n",
        "    if y == 1:\n",
        "        teaching = TeachingTeam(100, \"Ahmed Samir\", 100, 12000, \"OOP\")\n",
        "        print(teaching.staffDetails())\n",
        "    elif y == 2:\n",
        "        nonteaching = NonTeachingTeam(500, \"Selim Ashraf\", 12, 10000, \"Manager\")\n",
        "        print(nonteaching.staffDetails())\n",
        "\n",
        "elif x == 5:\n",
        "    classroominfo = Classroom(10, \"Second Year\", 10, True)\n",
        "    print(classroominfo.ClassDetails())\n",
        "    print(classroominfo.IsOccupied())\n",
        "\n",
        "elif x == 6:\n",
        "    canteens = Canteen(2, [], [])\n",
        "    print(canteens.ShowItems())\n",
        "    print(canteens.Buy(\"Fries\"))\n",
        "    print(canteens.Buy(\"Chips\"))\n",
        "\n",
        "elif x == 7:\n",
        "    libraries = Library(1, \"abc\", [\"Harry Potter\", \"Panic\", \"Psychology\"], 200)\n",
        "    print(\"--------------\")\n",
        "    print(libraries.LibraryDetails())\n",
        "    print(\"--------------\")\n",
        "    print(libraries.SearchBook(\"Panic\"))\n",
        "    print(\"--------------\")\n",
        "    print(libraries.LendBook(\"Panic\"))\n",
        "    print(\"--------------\")\n",
        "    print(libraries.ReturnBook(\"Harr\"))\n",
        "\n",
        "elif x == 8:\n",
        "    parkings = Parking(3, \"123\", \"Ahmed\")\n",
        "    print(parkings.ParkingVehicle())\n",
        "\n",
        "elif x == 9:\n",
        "    girl = GirlsHostel(101, 10)\n",
        "    girl.CheckIn()\n",
        "    girl.CheckOut()\n",
        "\n",
        "    boy = BoysHostel(456, 20)\n",
        "    boy.CheckIn()\n",
        "    boy.CheckOut()\n",
        "\n",
        "elif x == 10:\n",
        "    buses = Bus(1, 2, \"John\", \"Downtown\", 20)\n",
        "    print(buses.BusDetails())\n",
        "    print(buses.ShowAvailableSeats())\n",
        "    print(buses.BookSeat())\n",
        "\n",
        "elif x == 11:\n",
        "    events_2 = Auditorium(\"Main Hale\", [1, 2, 3], \"2012-12-3\", [\"10:00\", \"1:00\", \"3:00\"], 123, 1, [\"a\", \"b\", \"c\"])\n",
        "    print(events_2.ShowEvents())\n",
        "\n",
        "else:\n",
        "    print(\"Invalid Input\")\n"
      ]
    }
  ],
  "metadata": {
    "colab": {
      "provenance": [],
      "collapsed_sections": [
        "9W7rwquRDzkI",
        "_8bTZi0yFHxd",
        "431RSIVVyUl9",
        "qWgC_savyxI4",
        "b2fe-9OVM0Nd",
        "ApaF2xPmqnAC",
        "EqoSaQ6Nutjd",
        "8LpG9DsaASxP",
        "AKZilvF82JmE",
        "DglYxHTT2zEE"
      ],
      "toc_visible": true
    },
    "kernelspec": {
      "display_name": "Python 3",
      "name": "python3"
    },
    "language_info": {
      "name": "python"
    }
  },
  "nbformat": 4,
  "nbformat_minor": 0
}